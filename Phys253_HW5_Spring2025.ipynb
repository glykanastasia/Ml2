{
 "cells": [
  {
   "cell_type": "markdown",
   "id": "ec4db7c2",
   "metadata": {},
   "source": [
    "## PHYS-253 \n",
    "\n",
    "## Homework 5\n",
    "\n",
    "Handed out: Monday, May 19, 2025\n",
    "\n",
    "**Due: 15:00 pm; Monday, June 2, 2024**"
   ]
  },
  {
   "cell_type": "markdown",
   "id": "90ae4a21-0afa-4299-b802-f9913943a0c7",
   "metadata": {},
   "source": [
    "## Instructions\n",
    "\n",
    "a) You are allowed to discuss with your fellow students HOW to solve the problems. Collaboration is encouraged! But you need to hand in your INDIVIDUAL SOLUTION.  \n",
    "\n",
    "d) List AI assistants (e.g., ChatGPT) that you worked with in arriving at a solution, or other software/tool; see detailed instructions in next cell. \n",
    "\n",
    "c) You can use code from previous lectures/labs - you don't neeed to reference this, it is part of the knowledge you acquired in this course.  However, if you use code from other sources, you MUST include a reference to the source.\n",
    "\n",
    "d) Submit your Notebook (with solutions/answers) to Phys-253 site (area: ΕΡΓΑΣΙΕΣ / HW5)."
   ]
  },
  {
   "cell_type": "markdown",
   "id": "1ad5615e-699e-4f5d-a5c1-012ed3958ab0",
   "metadata": {},
   "source": [
    "### On the use of AI assistants (e.g., ChatGPT, or other Generative A.I. tools)\n",
    "\n",
    "ChatGPT can be used as an on-line “office hours” resource to help with your learning. \n",
    "You can use ChatGPT-generated code (e.g. as inspiration if you are stuck or other reasons), however, submission of ChatGPT-generated\n",
    "code without explanation or acknowledgment will earn you 0 credit. See cell below."
   ]
  },
  {
   "cell_type": "raw",
   "id": "e592d2ee-c91c-4b37-8caa-9016ddcf5771",
   "metadata": {},
   "source": [
    "# YOUR NAME:\n"
   ]
  },
  {
   "cell_type": "raw",
   "id": "947da3d3-2207-40a6-a05e-663d3fda6658",
   "metadata": {},
   "source": [
    "#1 List AI assistants (such as ChatGPT) or Software/Sources you might have used: \n",
    "Your answer: .........\n",
    "\n",
    "#2 Please, check which way the AI assistant help you [you can check more than one way]:\n",
    "\n",
    "a) AI helped you better understand the problem;\n",
    "b) AI helped you start the solution to the problem;\n",
    "c) AI helped generating the code;\n",
    "d) AI helped explaining the code;\n",
    "e) AI helped improving your code. \n",
    "\n",
    "Your answer(s): ...............\n",
    "\n",
    "#3 Have you been satisfied with your interaction with the AI tool? Please, feel free to say good or bad points.\n",
    "Your response: ................"
   ]
  },
  {
   "cell_type": "markdown",
   "id": "4906017a",
   "metadata": {},
   "source": [
    "__________________________________________________________________________________________________________________________"
   ]
  },
  {
   "cell_type": "markdown",
   "id": "8b9ae49a-9948-45b0-b8c7-3f2686f40ea0",
   "metadata": {},
   "source": [
    "## Problem 1\n",
    "\n",
    "In this problem, you will use the textbook (used in MIT's course 6.S058: Introduction to Computer Vision) \n",
    "\n",
    "***Foundations of Computer Vision***, by Antonio Torralba, Phillip Isola, and William Freeman, MIT Press (2024).\n",
    "\n",
    "This book is available online at https://visionbook.mit.edu/ \n",
    "\n",
    "Use ChatGPT, as in Figures 55.6 and 55.7, but for an input image of your choice."
   ]
  },
  {
   "cell_type": "code",
   "execution_count": null,
   "id": "aea9ea89-6ee7-4bc7-bad3-e135e8438ba6",
   "metadata": {},
   "outputs": [],
   "source": [
    "# your answer here\n"
   ]
  },
  {
   "cell_type": "markdown",
   "id": "bb501633",
   "metadata": {},
   "source": [
    "__________________________________________________________________________________________________________________________"
   ]
  },
  {
   "cell_type": "markdown",
   "id": "a819d54d",
   "metadata": {},
   "source": [
    "## Problem 2\n",
    "\n",
    "Go through KerasCV’s Stable Diffusion tutorial (https://keras.io/guides/keras_cv/generate_images_with_stable_diffusion/), and \n",
    "\n",
    "a) generate a beautiful drawing of a salamander reading a book;\n",
    "\n",
    "b) generate a beautiful drawing of your artistic creation.\n",
    "\n",
    "HINT: Run the code on Google Collab."
   ]
  },
  {
   "cell_type": "code",
   "execution_count": null,
   "id": "790b1c7c",
   "metadata": {},
   "outputs": [],
   "source": [
    "# your code here\n"
   ]
  },
  {
   "cell_type": "code",
   "execution_count": null,
   "id": "2e26988d-858d-4c78-85fe-009be5d588e3",
   "metadata": {},
   "outputs": [],
   "source": []
  },
  {
   "cell_type": "markdown",
   "id": "2954cf14-cd27-48c2-b2f7-04a75a333322",
   "metadata": {},
   "source": [
    "## Problem 3\n",
    "\n",
    "What is an attention mechanism? How does it help?"
   ]
  },
  {
   "cell_type": "raw",
   "id": "2a989833-9610-4822-b9ba-17c76f9ebfff",
   "metadata": {},
   "source": [
    "# your answer here\n"
   ]
  },
  {
   "cell_type": "markdown",
   "id": "703be9cb-c816-4dc4-b9da-f8028e0653ac",
   "metadata": {},
   "source": [
    "__________________________"
   ]
  },
  {
   "cell_type": "markdown",
   "id": "c425df6e-ba41-45f7-a92f-a1ce3b611e1a",
   "metadata": {},
   "source": [
    "## Problem 4: Ethical considerations of deep learning and AI\n",
    "\n",
    "Read Chapter 21, from “Understanding Deep Learning”, by Simon J. D. Prince, MIT Press (2023), which is accessible online at: from http://udlbook.com.\n",
    "\n",
    "Which ones are you consider to be the most important? Justify your arguments."
   ]
  },
  {
   "cell_type": "raw",
   "id": "30e090c1-ed97-4ded-a1a7-f2f12b5e8789",
   "metadata": {},
   "source": [
    "# your answer\n"
   ]
  },
  {
   "cell_type": "markdown",
   "id": "ffb0b8aa-9f54-4710-9643-37945d707595",
   "metadata": {},
   "source": [
    "_________________________________________________________________________________________________________________________"
   ]
  },
  {
   "cell_type": "markdown",
   "id": "902e9af5-6854-46ec-ac5c-790a21414470",
   "metadata": {},
   "source": [
    "#### Reflecting on ChatGPT or other AI tools\n",
    "\n",
    "Write a short paragraph reflecting on a moment when you relied on AI (ChatGPT, autocomplete, translation tools) instead of traditional search. How did it affect your sense of certainty or trust?"
   ]
  },
  {
   "cell_type": "raw",
   "id": "2a968b63-0c02-4ea3-a09d-c3f3241fe9a4",
   "metadata": {},
   "source": [
    "Your answer here:\n"
   ]
  }
 ],
 "metadata": {
  "kernelspec": {
   "display_name": "Python [conda env:base] *",
   "language": "python",
   "name": "conda-base-py"
  },
  "language_info": {
   "codemirror_mode": {
    "name": "ipython",
    "version": 3
   },
   "file_extension": ".py",
   "mimetype": "text/x-python",
   "name": "python",
   "nbconvert_exporter": "python",
   "pygments_lexer": "ipython3",
   "version": "3.12.3"
  }
 },
 "nbformat": 4,
 "nbformat_minor": 5
}
